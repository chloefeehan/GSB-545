{
 "cells": [
  {
   "cell_type": "raw",
   "metadata": {
    "vscode": {
     "languageId": "raw"
    }
   },
   "source": [
    "---\n",
    "title: \"PA Stacking\"\n",
    "author: \"Chloe Feehan\"\n",
    "format: \n",
    "  html:\n",
    "    code-fold: true\n",
    "    embed-resources: true\n",
    "    toc: true\n",
    "execute:\n",
    "  message: false\n",
    "  warning: false\n",
    "theme: flatly\n",
    "---"
   ]
  },
  {
   "cell_type": "code",
   "execution_count": 17,
   "metadata": {},
   "outputs": [],
   "source": [
    "import pandas as pd\n",
    "import numpy as np\n",
    "from numpy import mean\n",
    "from numpy import std\n",
    "from sklearn.datasets import make_regression\n",
    "from sklearn.model_selection import cross_val_score\n",
    "from sklearn.model_selection import RepeatedKFold\n",
    "from sklearn.linear_model import LinearRegression\n",
    "from sklearn.neighbors import KNeighborsRegressor\n",
    "from sklearn.tree import DecisionTreeRegressor\n",
    "from sklearn.svm import SVR\n",
    "from sklearn.ensemble import StackingRegressor\n",
    "import warnings\n",
    "from matplotlib import pyplot\n",
    "\n",
    "#suppress convergence warnings\n",
    "warnings.simplefilter(\"ignore\", ConvergenceWarning)\n",
    "pd.options.mode.chained_assignment = None"
   ]
  },
  {
   "cell_type": "markdown",
   "metadata": {},
   "source": [
    "The data and variables names are in different files; you will likely need them both. The goal here is to predict the age of the abalone using the other variables in the dataset because the traditional method for aging these organisms is boring and tedious.\n",
    "\n",
    "There are two challenges (in my opinion):\n",
    "\n",
    "1. You should try to build the best, stacking-based model(s) to predict age.\n",
    "\n",
    "2. The UC Irvine Machine Learning Repository classifies this dataset as a \"classification\" dataset, but age is stored as a numeric (albeit discrete-valued) variable. So, I think it could maybe be reasonable to treat this as a regression problem. It's up to you!\n",
    "\n",
    "How does your work here compare to your results with bagging?!"
   ]
  },
  {
   "cell_type": "code",
   "execution_count": 3,
   "metadata": {},
   "outputs": [],
   "source": [
    "# load in the data\n",
    "\n",
    "column_names = [\n",
    "    'Sex', 'Length', 'Diameter', 'Height',\n",
    "    'WholeWeight', 'ShuckedWeight',\n",
    "    'VisceraWeight', 'ShellWeight', 'Rings'\n",
    "]\n",
    "abalone = pd.read_csv(\"abalone.data\", header=None, names=column_names)"
   ]
  },
  {
   "cell_type": "markdown",
   "metadata": {},
   "source": [
    "# Stacking Models"
   ]
  },
  {
   "cell_type": "code",
   "execution_count": 18,
   "metadata": {},
   "outputs": [
    {
     "name": "stdout",
     "output_type": "stream",
     "text": [
      ">knn 0.514 (0.031)\n",
      ">cart 0.088 (0.111)\n",
      ">svm 0.515 (0.034)\n",
      ">stacking 0.560 (0.031)\n"
     ]
    },
    {
     "name": "stderr",
     "output_type": "stream",
     "text": [
      "<positron-console-cell-18>:45: MatplotlibDeprecationWarning: The 'labels' parameter of boxplot() has been renamed 'tick_labels' since Matplotlib 3.9; support for the old name will be dropped in 3.11.\n"
     ]
    },
    {
     "data": {
      "image/png": "[encoded data removed]",
      "text/plain": [
       "<Figure size 640x480 with 1 Axes>"
      ]
     },
     "metadata": {},
     "output_type": "display_data"
    }
   ],
   "source": [
    "\n",
    "# get a stacking ensemble of models\n",
    "def get_stacking():\n",
    "\t# define the base models\n",
    "\tlevel0 = list()\n",
    "\tlevel0.append(('knn', KNeighborsRegressor()))\n",
    "\tlevel0.append(('cart', DecisionTreeRegressor()))\n",
    "\tlevel0.append(('svm', SVR()))\n",
    "\t# define meta learner model\n",
    "\tlevel1 = LinearRegression()\n",
    "\t# define the stacking ensemble\n",
    "\tmodel = StackingRegressor(estimators=level0, final_estimator=level1, cv=5)\n",
    "\treturn model\n",
    "\n",
    "\n",
    "# get a list of models to evaluate\n",
    "def get_models():\n",
    "\tmodels = dict()\n",
    "\tmodels['knn'] = KNeighborsRegressor()\n",
    "\tmodels['cart'] = DecisionTreeRegressor()\n",
    "\tmodels['svm'] = SVR()\n",
    "\tmodels['stacking'] = get_stacking()\n",
    "\treturn models\n",
    "\n",
    "# evaluate a given model using cross-validation\n",
    "def evaluate_model(model, X, y):\n",
    "\tcv = RepeatedKFold(n_splits=10, n_repeats=3, random_state=1)\n",
    "\tscores = cross_val_score(model, X, y, scoring='r2', cv=cv, n_jobs=-1, error_score='raise')\n",
    "\treturn scores\n",
    "\n",
    "# define x and y\n",
    "X = pd.get_dummies(abalone.drop(\"Rings\", axis=1), drop_first=True)\n",
    "y = abalone[\"Rings\"]\n",
    "\n",
    "# get the models to evaluate\n",
    "models = get_models()\n",
    "# evaluate the models and store results\n",
    "results, names = list(), list()\n",
    "for name, model in models.items():\n",
    "\tscores = evaluate_model(model, X, y)\n",
    "\tresults.append(scores)\n",
    "\tnames.append(name)\n",
    "\tprint('>%s %.3f (%.3f)' % (name, mean(scores), std(scores)))\n",
    "\n",
    "# plot model performance for comparison\n",
    "pyplot.boxplot(results, labels=names, showmeans=True)\n",
    "pyplot.show()"
   ]
  },
  {
   "cell_type": "code",
   "execution_count": 19,
   "metadata": {},
   "outputs": [
    {
     "data": {
      "text/plain": [
       "np.float64(9.990149134941001)"
      ]
     },
     "execution_count": null,
     "metadata": {},
     "output_type": "execute_result"
    }
   ],
   "source": [
    "model = get_stacking()\n",
    "model.fit(X, y)\n",
    "predictions = model.predict(X)\n",
    "avg_pred = mean(predictions)\n",
    "avg_pred\n"
   ]
  },
  {
   "cell_type": "markdown",
   "metadata": {},
   "source": [
    "Looking at the the model results above, the KNN, SVM, and stacking models all demonstrate roughly similar results. However, the SVM model was lower with an r-squared value of 0.088. Overall, the r-squared values were not great around 0.55, indicating that 55% of the variance in rings is explained by the model.\n",
    "\n",
    "The average age is approximately 9.99, which is similar to the bagging results."
   ]
  }
 ],
 "metadata": {
  "language_info": {
   "name": "python"
  }
 },
 "nbformat": 4,
 "nbformat_minor": 2
}
