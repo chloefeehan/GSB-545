{
 "cells": [
  {
   "cell_type": "markdown",
   "metadata": {},
   "source": [
    "# PA - Neural Networks"
   ]
  },
  {
   "cell_type": "markdown",
   "metadata": {},
   "source": [
    "Your goal is to use the other variables in the dataset to predict wine price. Feel free to use only a subset of the variables.\n",
    "\n",
    "Assignment Specs\n",
    "\n",
    "You should compare Neural Networks as we discussed this week to at least one of our previous models from this quarter.\n",
    "A secondary goal of this assignment is to test the effects of the neural network function(s) arguments on the algorithm's performance. \n",
    "You should explore at least 5 different sets of settings for the function inputs, and you should do your best to find values for these inputs that actually change the results of your modelling. That is, try not to run three different sets of inputs that result in the same performance. The goal here is for you to better understand how to set these input values yourself in the future. Comment on what you discover about these inputs and how the behave.\n",
    "Additionally, I'd like you to include pictures of the network architecture for each of the neural network models you run. You may hand-draw them and insert pictures into your submitted files if you wish. You may also use software (e.g. draw.io) to create nice looking diagrams. I want you to become intimately familiar with these types of models and what they look like.\n",
    "Your submission should be built and written with non-experts as the target audience. All of your code should still be included, but do your best to narrate your work in accessible ways.\n",
    "Again, submit an HTML, ipynb, or Colab link. Be sure to rerun your entire notebook fresh before submitting!"
   ]
  },
  {
   "cell_type": "code",
   "execution_count": null,
   "metadata": {},
   "outputs": [
    {
     "name": "stderr",
     "output_type": "stream",
     "text": [
      "<positron-console-cell-14>:2: DtypeWarning: Columns (8,19,20) have mixed types. Specify dtype option on import or set low_memory=False.\n"
     ]
    }
   ],
   "source": [
    "import pandas as pd\n",
    "wine = pd.read_csv(\"/In-Class/Week-4/cleansingWine.csv\")\n",
    "#wine_info = pd.read_csv(r\"C:\\Users\\achur\\OneDrive\\Desktop\\School\\CP Spring 2024\\545\\GSB545\\Labs\\wine_info.csv\")"
   ]
  },
  {
   "cell_type": "code",
   "execution_count": 15,
   "metadata": {},
   "outputs": [],
   "source": [
    "# clean data\n",
    "# drop the unnamed column\n",
    "#wine = wine.drop(columns=['varieties3'])\n",
    "#wine = wine.drop(columns=['varieties4'])\n",
    "#wine = wine.drop(columns=['varieties5'])\n",
    "#wine = wine.drop(columns=['varieties6'])\n",
    "#wine = wine.drop(columns=['varieties7'])\n",
    "#wine = wine.drop(columns=['varieties8'])\n",
    "#wine = wine.drop(columns=['varieties9'])\n",
    "#wine = wine.drop(columns=['varieties10'])\n",
    "#wine = wine.drop(columns=['varieties11'])\n",
    "#wine = wine.drop(columns=['varieties12'])\n",
    "#wine = wine.drop(columns=['local2'])\n",
    "#wine = wine.drop(columns=['local3'])\n",
    "#wine = wine.drop(columns=['local4'])\n",
    "\n",
    "# convert price to numeric\n",
    "wine['price'] = pd.to_numeric(wine['price'], errors='coerce')\n",
    "wine.loc[wine['price'] == 0, 'price'] = pd.NA\n",
    "\n",
    "# convert to USD\n",
    "wine['price_usd'] = wine['price'] / 1300\n",
    "\n",
    "# clean white space\n",
    "str_cols = wine.select_dtypes(include='object').columns\n",
    "wine[str_cols] = wine[str_cols].apply(lambda x: x.str.strip())\n",
    "\n",
    "# drop na in price\n",
    "wine = wine.dropna(subset=['price_usd'])"
   ]
  },
  {
   "cell_type": "markdown",
   "metadata": {},
   "source": [
    "### Bagging Regression"
   ]
  },
  {
   "cell_type": "code",
   "execution_count": null,
   "metadata": {},
   "outputs": [],
   "source": []
  },
  {
   "cell_type": "markdown",
   "metadata": {},
   "source": [
    "### Neural Network Regression"
   ]
  },
  {
   "cell_type": "code",
   "execution_count": 16,
   "metadata": {},
   "outputs": [],
   "source": [
    "#pip install tensorflow"
   ]
  },
  {
   "cell_type": "code",
   "execution_count": 17,
   "metadata": {},
   "outputs": [],
   "source": [
    "import pandas as pd\n",
    "import numpy as np\n",
    "from sklearn.model_selection import train_test_split\n",
    "from sklearn.preprocessing import StandardScaler\n",
    "\n",
    "# Drop rows with missing target\n",
    "#cleansing_wine = cleansing_wine.dropna(subset=['price_usd'])\n",
    "\n",
    "# Use numeric columns only\n",
    "wine_data = wine.select_dtypes(include=[np.number]).dropna()\n",
    "\n",
    "# Define features and target\n",
    "#X = wine_data.drop(columns=['price', 'price_usd'])\n",
    "#y = wine_data['price_usd']\n",
    "\n",
    "# Scale features\n",
    "#scaler = StandardScaler()\n",
    "#X_scaled = scaler.fit_transform(X)\n",
    "\n",
    "# Split data\n",
    "#X_train, X_test, y_train, y_test = train_test_split(X_scaled, y, test_size=0.2, random_state=1)\n"
   ]
  },
  {
   "cell_type": "code",
   "execution_count": 20,
   "metadata": {},
   "outputs": [
    {
     "name": "stdout",
     "output_type": "stream",
     "text": [
      "     Model       MSE  R2 Score\n",
      "0  Model_1  0.400001  0.592712\n",
      "1  Model_2  0.415830  0.576594\n",
      "2  Model_3  0.982141 -0.000035\n",
      "3  Model_4  0.402055  0.590620\n",
      "4  Model_5  0.401217  0.591474\n"
     ]
    }
   ],
   "source": [
    "X = wine.drop(columns=['price', 'price_usd'])\n",
    "\n",
    "# Drop high-cardinality categorical columns\n",
    "X = X.drop(columns=['name', 'producer', 'type','acidity', 'tannin', 'year', 'ml', 'varieties1', 'varieties2'], errors='ignore')\n",
    "y = np.log1p(wine['price_usd'])\n",
    "\n",
    "# Manually identify column types\n",
    "categorical_cols = X.select_dtypes(include='object').columns.tolist()\n",
    "numerical_cols = X.select_dtypes(include='number').columns.tolist()\n",
    "\n",
    "# Split data\n",
    "X_train, X_test, y_train, y_test = train_test_split(X, y, test_size=0.2, random_state=42)\n",
    "\n",
    "# Preprocessing transformer\n",
    "preprocessor = ColumnTransformer([\n",
    "    ('cat', OneHotEncoder(handle_unknown='ignore', sparse_output=False), categorical_cols),\n",
    "    ('num', StandardScaler(), numerical_cols)\n",
    "])\n",
    "\n",
    "# Model configurations\n",
    "model_configs = [\n",
    "    {\"name\": \"Model_1\", \"hidden_layer_sizes\": (1,), \"activation\": \"relu\", \"solver\": \"adam\", \"learning_rate_init\": 0.001},\n",
    "    {\"name\": \"Model_2\", \"hidden_layer_sizes\": (1,), \"activation\": \"tanh\", \"solver\": \"adam\", \"learning_rate_init\": 0.005},\n",
    "    {\"name\": \"Model_3\", \"hidden_layer_sizes\": (1,), \"activation\": \"logistic\", \"solver\": \"sgd\", \"learning_rate_init\": 0.01},\n",
    "    {\"name\": \"Model_4\", \"hidden_layer_sizes\": (1,), \"activation\": \"relu\", \"solver\": \"lbfgs\", \"learning_rate_init\": 0.01},\n",
    "    {\"name\": \"Model_5\", \"hidden_layer_sizes\": (1,), \"activation\": \"tanh\", \"solver\": \"adam\", \"learning_rate_init\": 0.0001}\n",
    "]\n",
    "\n",
    "# Run and evaluate models\n",
    "results = []\n",
    "for config in model_configs:\n",
    "    pipe = Pipeline([\n",
    "        ('preprocess', preprocessor),\n",
    "        ('regressor', MLPRegressor(\n",
    "            hidden_layer_sizes=config['hidden_layer_sizes'],\n",
    "            activation=config['activation'],\n",
    "            solver=config['solver'],\n",
    "            learning_rate_init=config['learning_rate_init'],\n",
    "            max_iter=1000,\n",
    "            random_state=1\n",
    "        ))\n",
    "    ])\n",
    "    pipe.fit(X_train, y_train)\n",
    "    preds = pipe.predict(X_test)\n",
    "\n",
    "    results.append({\n",
    "        \"Model\": config[\"name\"],\n",
    "        \"MSE\": mean_squared_error(y_test, preds),\n",
    "        \"R2 Score\": r2_score(y_test, preds)\n",
    "    })\n",
    "\n",
    "# Convert results to DataFrame\n",
    "results_df = pd.DataFrame(results)\n",
    "print(results_df)"
   ]
  }
 ],
 "metadata": {
  "language_info": {
   "name": "python"
  }
 },
 "nbformat": 4,
 "nbformat_minor": 2
}
