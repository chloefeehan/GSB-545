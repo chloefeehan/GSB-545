{
 "cells": [
  {
   "cell_type": "raw",
   "metadata": {},
   "source": [
    "---\n",
    "title: \"Lab 1\"\n",
    "author: \"Chloe Feehan\"\n",
    "format: \n",
    "  html:\n",
    "    code-fold: true\n",
    "    embed-resources: true\n",
    "    toc: true\n",
    "execute:\n",
    "  message: false\n",
    "  warning: false\n",
    "theme: flatly\n",
    "---"
   ]
  },
  {
   "cell_type": "markdown",
   "metadata": {},
   "source": [
    "In this lab you'll be doing a bit more of a comprehensive analysis. Despite coming from Kaggle, this will not be a competition. Check out the data source and context here:\n",
    "\n",
    "https://www.kaggle.com/datasets/riinuanslan/sleep-data-from-fitbit-trackerLinks to an external site.\n",
    "\n",
    "It's a relatively simple dataset, but your goal is this: \n",
    "\n",
    "Can we predict Sleep Score (posted by the FitBit app) using the other metrics in the dataset? In other words, is there a formula here that the FitBit app uses to compute Sleep Score that we can reverse-engineer?\n",
    "Two constraints for this assignment:\n",
    "\n",
    "1. Your modeling efforts must involve bagging and stacking in some way. Otherwise, you may try whatever you like.\n",
    "\n",
    "2. You are allowed, even encouraged, to compute and/or gather additional features to use as explanatory variables in your model. For example, you might create a variable for the time they went to sleep (as a measure of how \"early\" they went to bed, or not). There are multiple datasets and you should use all of them, which means you may use the corresponding month for the dataset as a variable as well (or anything related to it).\n",
    "\n",
    "Your submission should be an HTML or .ipynb file of all of your work."
   ]
  },
  {
   "cell_type": "code",
   "execution_count": 82,
   "metadata": {
    "vscode": {
     "languageId": "python"
    }
   },
   "outputs": [],
   "source": [
    "import pandas as pd\n",
    "import numpy as np\n",
    "import re\n",
    "from numpy import mean\n",
    "from numpy import std\n",
    "from sklearn.datasets import make_regression\n",
    "from sklearn.model_selection import cross_val_score\n",
    "from sklearn.model_selection import RepeatedKFold\n",
    "from sklearn.linear_model import LinearRegression\n",
    "from sklearn.neighbors import KNeighborsRegressor\n",
    "from sklearn.tree import DecisionTreeRegressor\n",
    "from sklearn.svm import SVR\n",
    "from sklearn.ensemble import StackingRegressor\n",
    "import warnings\n",
    "from sklearn.exceptions import ConvergenceWarning\n",
    "from matplotlib import pyplot\n",
    "\n",
    "#suppress convergence warnings\n",
    "warnings.simplefilter(\"ignore\", ConvergenceWarning)\n",
    "pd.options.mode.chained_assignment = None"
   ]
  },
  {
   "cell_type": "markdown",
   "metadata": {},
   "source": [
    "# Cleaning data"
   ]
  },
  {
   "cell_type": "code",
   "execution_count": 83,
   "metadata": {
    "vscode": {
     "languageId": "python"
    }
   },
   "outputs": [],
   "source": [
    "# load in data\n",
    "\n",
    "april = pd.read_csv(\"/Users/chloefeehan/Desktop/python/GSB-545/Labs/Lab-1/data/April sleep data - Sheet1.csv\")\n",
    "december = pd.read_csv(\"/Users/chloefeehan/Desktop/python/GSB-545/Labs/Lab-1/data/December sleep data - Sheet1.csv\")\n",
    "february = pd.read_csv(\"/Users/chloefeehan/Desktop/python/GSB-545/Labs/Lab-1/data/February sleep data - Sheet1 (1).csv\")\n",
    "january = pd.read_csv(\"/Users/chloefeehan/Desktop/python/GSB-545/Labs/Lab-1/data/January sleep data - Sheet1.csv\")\n",
    "march = pd.read_csv(\"/Users/chloefeehan/Desktop/python/GSB-545/Labs/Lab-1/data/March sleep data - Sheet1.csv\")\n",
    "november = pd.read_csv(\"/Users/chloefeehan/Desktop/python/GSB-545/Labs/Lab-1/data/November sleep data - Sheet1.csv\")\n",
    "\n",
    "# Add a 'Month' column to each\n",
    "april[\"Month\"] = \"April\"\n",
    "april = april.rename(columns={\"APRIL\": \"Day\"})\n",
    "december[\"Month\"] = \"December\"\n",
    "december = december.rename(columns={\"DECEMBER\": \"Day\"})\n",
    "february[\"Month\"] = \"February\"\n",
    "february = february.rename(columns={\"FEBEUARY\": \"Day\"})\n",
    "february = february.rename(columns={\"SLEEP SQORE\": \"SLEEP SCORE\"})\n",
    "january[\"Month\"] = \"January\"\n",
    "january = january.rename(columns={\"JANUARY\": \"Day\"})\n",
    "january = january.rename(columns={\"HEART RATE UNDER RESTING\": \"HEART RATE BELOW RESTING\"})\n",
    "march[\"Month\"] = \"March\"\n",
    "march = march.rename(columns={\"MARCH\": \"Day\"})\n",
    "march = march.rename(columns = {\"HEARTRATE BELOW RESTING\": \"HEART RATE BELOW RESTING\"})\n",
    "november[\"Month\"] = \"November\"\n",
    "november = november.rename(columns={\"NOVEMBER\": \"Day\"})\n",
    "\n",
    "# create combined dataset\n",
    "sleep_data = pd.concat([november, december, january, february, march, april], ignore_index=True)\n",
    "sleep_data = sleep_data.dropna()\n",
    "sleep_data.head()\n",
    "\n",
    "# clean sleep data\n",
    "sleep_data[\"REM SLEEP\"] = sleep_data[\"REM SLEEP\"].str.replace('%', '').astype(float)\n",
    "sleep_data[\"DEEP SLEEP\"] = sleep_data[\"DEEP SLEEP\"].str.replace('%', '').astype(float)\n",
    "sleep_data[\"HEART RATE BELOW RESTING\"] = sleep_data[\"HEART RATE BELOW RESTING\"].str.replace('%', '').astype(float)\n",
    "\n",
    "sleep_data[\"DATE\"] = pd.to_datetime(sleep_data[\"DATE\"], errors= \"coerce\")\n"
   ]
  },
  {
   "cell_type": "code",
   "execution_count": 84,
   "metadata": {
    "vscode": {
     "languageId": "python"
    }
   },
   "outputs": [],
   "source": [
    "\n",
    "# Split into bedtime and wake time\n",
    "split_times = sleep_data['SLEEP TIME'].str.split(' - ', expand=True)\n",
    "sleep_data['bedtime_raw'] = split_times[0]\n",
    "sleep_data['wakeup_raw'] = split_times[1]\n",
    "\n",
    "# fix missing am/pm\n",
    "def fix_ampm(time_str, default_ampm):\n",
    "    if pd.isna(time_str):\n",
    "        return None\n",
    "    if 'am' in time_str.lower() or 'pm' in time_str.lower():\n",
    "        return time_str\n",
    "    else:\n",
    "        return time_str + default_ampm\n",
    "\n",
    "def replace_dash_with_colon(time_str):\n",
    "    if pd.isna(time_str):\n",
    "        return time_str\n",
    "    time_str = str(time_str).strip()\n",
    "    return time_str.replace('-', ':')\n",
    "\n",
    "sleep_data['bedtime_raw'] = sleep_data['bedtime_raw'].apply(replace_dash_with_colon)\n",
    "sleep_data['wakeup_raw'] = sleep_data['wakeup_raw'].apply(replace_dash_with_colon)\n",
    "\n",
    "sleep_data['bedtime_fixed'] = sleep_data['bedtime_raw'].apply(lambda x: fix_ampm(x, 'pm'))\n",
    "sleep_data['wakeup_fixed'] = sleep_data['wakeup_raw'].apply(lambda x: fix_ampm(x, 'am'))\n",
    "\n",
    "sleep_data['Bedtime'] = pd.to_datetime(\n",
    "    sleep_data['DATE'].dt.strftime('%Y-%m-%d') + ' ' + sleep_data['bedtime_fixed'],\n",
    "    format='%Y-%m-%d %I:%M%p',\n",
    "    errors='coerce'\n",
    ")\n",
    "\n",
    "# create Wakeup time\n",
    "sleep_data['Wakeup'] = pd.to_datetime(\n",
    "    sleep_data['DATE'].dt.strftime('%Y-%m-%d') + ' ' + sleep_data['wakeup_fixed'],\n",
    "    format='%Y-%m-%d %I:%M%p',\n",
    "    errors='coerce'\n",
    ")\n",
    "\n",
    "# If Wakeup is before Bedtime, assume wakeup is the next day\n",
    "sleep_data.loc[sleep_data['Wakeup'] < sleep_data['Bedtime'], 'Wakeup'] += pd.Timedelta(days=1)\n",
    "\n",
    "# Create Sleep Duration in hours\n",
    "sleep_data['Sleep Duration'] = (sleep_data['Wakeup'] - sleep_data['Bedtime']).dt.total_seconds() / 3600\n",
    "\n",
    "# Convert Bedtime to hours\n",
    "sleep_data['Bedtime_hours'] = sleep_data['Bedtime'].dt.hour + sleep_data['Bedtime'].dt.minute / 60\n",
    "\n",
    "# Convert Wakeup to hours\n",
    "sleep_data['Wakeup_hours'] = sleep_data['Wakeup'].dt.hour + sleep_data['Wakeup'].dt.minute / 60\n",
    "\n",
    "\n",
    "#sleep_data = pd.get_dummies(sleep_data, columns=['Month', 'Day'], drop_first=True)"
   ]
  },
  {
   "cell_type": "markdown",
   "metadata": {},
   "source": [
    "# Bagging and Stacking Models\n"
   ]
  },
  {
   "cell_type": "code",
   "execution_count": 142,
   "metadata": {
    "vscode": {
     "languageId": "python"
    }
   },
   "outputs": [],
   "source": [
    "# Define X and y\n",
    "X = sleep_data[[\"Day\", \"REM SLEEP\", \"DEEP SLEEP\", \"HEART RATE BELOW RESTING\", \"Month\", \"Sleep Duration\"]]\n",
    "y = sleep_data[\"SLEEP SCORE\"]\n",
    "\n",
    "# One-hot encode 'Month' and 'Day' (assuming they're categorical, not numeric ordered)\n",
    "X_encoded = pd.get_dummies(X, drop_first=True)\n",
    "\n",
    "# Scale all numeric features\n",
    "scaler = StandardScaler()\n",
    "X_scaled = scaler.fit_transform(X_encoded)\n",
    "X_scaled_df = pd.DataFrame(X_scaled, columns=X_encoded.columns)\n",
    "\n",
    "# Then split\n",
    "X_train, X_test, y_train, y_test = train_test_split(X_scaled_df, y, test_size=0.2, random_state=6)"
   ]
  },
  {
   "cell_type": "markdown",
   "metadata": {},
   "source": [
    "# Bagging Model"
   ]
  },
  {
   "cell_type": "code",
   "execution_count": 149,
   "metadata": {
    "vscode": {
     "languageId": "python"
    }
   },
   "outputs": [
    {
     "name": "stdout",
     "output_type": "stream",
     "text": [
      "Mean Squared Error: 108.69\n",
      "Average CV R^2 Score (5-fold): 0.43\n"
     ]
    }
   ],
   "source": [
    "model = BaggingRegressor(\n",
    "    estimator=DecisionTreeRegressor(),\n",
    "    n_estimators=100,\n",
    "    random_state=6,\n",
    "    n_jobs=-1\n",
    ")\n",
    "\n",
    "model.fit(X_train, y_train)\n",
    "\n",
    "# Predict and evaluate\n",
    "y_pred = model.predict(X_test)\n",
    "mse = mean_squared_error(y_test, y_pred)\n",
    "\n",
    "print(f\"Mean Squared Error: {mse:.2f}\")\n",
    "\n",
    "cv_scores = cross_val_score(model, X_scaled, y, cv=5, scoring='r2')\n",
    "print(f\"Average CV R^2 Score (5-fold): {np.mean(cv_scores):.2f}\")"
   ]
  },
  {
   "cell_type": "markdown",
   "metadata": {},
   "source": [
    "# Stacking Model\n"
   ]
  },
  {
   "cell_type": "code",
   "execution_count": null,
   "metadata": {
    "vscode": {
     "languageId": "python"
    }
   },
   "outputs": [
    {
     "name": "stdout",
     "output_type": "stream",
     "text": [
      ">knn 0.085 (0.270)\n",
      ">cart 0.272 (0.326)\n",
      ">svm 0.309 (0.125)\n",
      ">bagging 0.587 (0.187)\n",
      ">stacking 0.615 (0.171)\n",
      "\n",
      "Average Prediction per Model:\n",
      "      Model  Average Predicted Sleep Score\n",
      "0       knn                      85.294444\n",
      "1      cart                      83.305556\n",
      "2       svm                      84.734516\n",
      "3   bagging                      83.427778\n",
      "4  stacking                      83.598362\n"
     ]
    }
   ],
   "source": [
    "\n",
    "# Define stacking model\n",
    "def get_stacking():\n",
    "    level0 = list()\n",
    "    level0.append(('knn', KNeighborsRegressor()))\n",
    "    level0.append(('cart', DecisionTreeRegressor()))\n",
    "    level0.append(('svm', SVR()))\n",
    "    level0.append(('bagging', BaggingRegressor(estimator=DecisionTreeRegressor(), n_estimators=100,\n",
    "    random_state=6,\n",
    "    n_jobs=-1\n",
    ")))\n",
    "    level1 = LinearRegression()\n",
    "    model = StackingRegressor(estimators=level0, final_estimator=level1, cv=5)\n",
    "    return model\n",
    "\n",
    "# List of models to evaluate\n",
    "def get_models():\n",
    "    models = dict()\n",
    "    models['knn'] = KNeighborsRegressor()\n",
    "    models['cart'] = DecisionTreeRegressor()\n",
    "    models['svm'] = SVR()\n",
    "    models['bagging'] = BaggingRegressor()\n",
    "    models['stacking'] = get_stacking()\n",
    "    return models\n",
    "\n",
    "# Evaluate using cross-validation\n",
    "def evaluate_model(model, X, y):\n",
    "    cv = RepeatedKFold(n_splits=10, n_repeats=3, random_state=6)\n",
    "    scores = cross_val_score(model, X, y, scoring='r2', cv=cv, n_jobs=-1, error_score='raise')\n",
    "    return scores\n",
    "\n",
    "# Evaluate models and predict\n",
    "models = get_models()\n",
    "results, names = [], []\n",
    "avg_predictions = {}\n",
    "\n",
    "for name, model in models.items():\n",
    "    # Cross-validation\n",
    "    scores = evaluate_model(model, X_train, y_train)\n",
    "    results.append(scores)\n",
    "    names.append(name)\n",
    "    print('>%s %.3f (%.3f)' % (name, np.mean(scores), np.std(scores)))\n",
    "\n",
    "    # Fit on train and predict on test\n",
    "    model.fit(X_train, y_train)\n",
    "    preds = model.predict(X_test)\n",
    "    avg_predictions[name] = np.mean(preds)\n",
    "\n",
    "# Create and print prediction summary\n",
    "avg_pred_df = pd.DataFrame(list(avg_predictions.items()), columns=['Model', 'Average Predicted Sleep Score'])\n",
    "print(\"\\nAverage Prediction per Model:\")\n",
    "print(avg_pred_df)\n"
   ]
  },
  {
   "cell_type": "markdown",
   "metadata": {},
   "source": [
    "Based on the results, the stacking model's slightly higher R-squared value suggests that it provides a more accurate prediction compared to the other models."
   ]
  },
  {
   "cell_type": "markdown",
   "metadata": {},
   "source": [
    "# Appendix and References\n",
    "\n",
    "https://scikit-learn.org/stable/modules/generated/sklearn.ensemble.BaggingRegressor.html\n",
    "https://scikit-learn.org/stable/modules/generated/sklearn.ensemble.StackingRegressor.html\n",
    "\n",
    "\n",
    "Generative AI Statement: Generative AI tools were used to streamline processes and troubleshoot errors. Aided in function building for creating variables"
   ]
  }
 ],
 "metadata": {
  "language_info": {
   "name": "raw"
  }
 },
 "nbformat": 4,
 "nbformat_minor": 2
}
